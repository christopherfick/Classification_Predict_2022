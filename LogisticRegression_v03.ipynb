{
 "cells": [
  {
   "cell_type": "code",
   "execution_count": 20,
   "id": "50123cb9",
   "metadata": {},
   "outputs": [],
   "source": [
    "import pandas as pd\n",
    "import numpy as np\n",
    "\n",
    "import seaborn as sns\n",
    "import matplotlib.pyplot as plt\n",
    "%matplotlib inline\n",
    "\n",
    "from util.clean_text import quick_text_clean\n",
    "from util import model_util, model_performance\n",
    "from util.util import submit_test\n",
    "\n",
    "from sklearn.metrics import classification_report\n",
    "from sklearn.model_selection import cross_val_score"
   ]
  },
  {
   "cell_type": "code",
   "execution_count": 2,
   "id": "bc809b0d",
   "metadata": {},
   "outputs": [],
   "source": [
    "train_df = pd.read_csv('data/train_df.csv')\n",
    "test_df = pd.read_csv('data/test_df.csv')"
   ]
  },
  {
   "cell_type": "markdown",
   "id": "30c1d58d",
   "metadata": {},
   "source": [
    "---\n",
    "### Clean data"
   ]
  },
  {
   "cell_type": "code",
   "execution_count": 3,
   "id": "2eb173ae",
   "metadata": {},
   "outputs": [],
   "source": [
    "train_cleaned = train_df.copy()\n",
    "test_cleaned = test_df.copy()\n",
    "\n",
    "train_cleaned.message = train_cleaned.message.apply(quick_text_clean)\n",
    "test_cleaned.message = test_cleaned.message.apply(quick_text_clean)"
   ]
  },
  {
   "cell_type": "markdown",
   "id": "4c653ef1",
   "metadata": {},
   "source": [
    "### Split and Vectorize"
   ]
  },
  {
   "cell_type": "code",
   "execution_count": 12,
   "id": "665261da",
   "metadata": {},
   "outputs": [],
   "source": [
    "X = train_cleaned.message\n",
    "y= train_cleaned.sentiment\n",
    "\n",
    "X_train, X_test, y_train, y_test = model_util.TrainTestSplit(X, y).standard_split()\n",
    "\n",
    "vect = model_util.ModelLibrary('count_vect').model\n",
    "X_train = vect.fit_transform(X_train)\n",
    "X_test = vect.transform(X_test)"
   ]
  },
  {
   "cell_type": "markdown",
   "id": "a00fac51",
   "metadata": {},
   "source": [
    "### Model Fit and Predictions"
   ]
  },
  {
   "cell_type": "code",
   "execution_count": 5,
   "id": "e62fd741",
   "metadata": {},
   "outputs": [],
   "source": [
    "clf = model_util.ModelLibrary('logistic_reg').model.fit(X_train, y_train)\n",
    "predictions = clf.predict(X_test)"
   ]
  },
  {
   "cell_type": "markdown",
   "id": "8c68b936",
   "metadata": {},
   "source": [
    "### Model Performance"
   ]
  },
  {
   "cell_type": "code",
   "execution_count": 14,
   "id": "d089eccc",
   "metadata": {},
   "outputs": [
    {
     "data": {
      "text/plain": [
       "0.6321958189335335"
      ]
     },
     "execution_count": 14,
     "metadata": {},
     "output_type": "execute_result"
    }
   ],
   "source": [
    "# Note cross_val_score performed on X_train actual results should be higher\n",
    "cross_val_score(clf, X_train, y_train, cv=5, scoring='f1_macro').mean()"
   ]
  },
  {
   "cell_type": "code",
   "execution_count": 15,
   "id": "eb6e71d7",
   "metadata": {},
   "outputs": [
    {
     "name": "stdout",
     "output_type": "stream",
     "text": [
      "              precision    recall  f1-score   support\n",
      "\n",
      "          -1       0.73      0.45      0.56       253\n",
      "           0       0.59      0.41      0.49       489\n",
      "           1       0.76      0.87      0.81      1706\n",
      "           2       0.74      0.75      0.75       716\n",
      "\n",
      "    accuracy                           0.74      3164\n",
      "   macro avg       0.71      0.62      0.65      3164\n",
      "weighted avg       0.73      0.74      0.73      3164\n",
      "\n"
     ]
    }
   ],
   "source": [
    "print(classification_report(y_test, predictions))"
   ]
  },
  {
   "cell_type": "markdown",
   "id": "5e502630",
   "metadata": {},
   "source": [
    "### Submission"
   ]
  },
  {
   "cell_type": "code",
   "execution_count": 21,
   "id": "3bc75d57",
   "metadata": {},
   "outputs": [
    {
     "name": "stdout",
     "output_type": "stream",
     "text": [
      "Submission name and version: \n",
      " >>> Submission\n"
     ]
    }
   ],
   "source": [
    "X_vect_train = vect.fit_transform(X)\n",
    "X_vect_test = vect.transform(test_cleaned.message)\n",
    "\n",
    "clf = clf.fit(X_vect_train, y)\n",
    "predictions = clf.predict(X_vect_test)\n",
    "tweetid = test_cleaned.tweetid\n",
    "\n",
    "submit_test(tweetid, predictions)"
   ]
  }
 ],
 "metadata": {
  "kernelspec": {
   "display_name": "Python 3 (ipykernel)",
   "language": "python",
   "name": "python3"
  },
  "language_info": {
   "codemirror_mode": {
    "name": "ipython",
    "version": 3
   },
   "file_extension": ".py",
   "mimetype": "text/x-python",
   "name": "python",
   "nbconvert_exporter": "python",
   "pygments_lexer": "ipython3",
   "version": "3.8.5"
  }
 },
 "nbformat": 4,
 "nbformat_minor": 5
}
